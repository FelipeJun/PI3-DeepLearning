{
 "cells": [
  {
   "cell_type": "code",
   "execution_count": 3,
   "metadata": {},
   "outputs": [],
   "source": [
    "import numpy as np \n",
    "import pandas as pd \n",
    "import matplotlib.pyplot as plt\n",
    "import tensorflow as tf\n",
    "from PIL import Image\n",
    "import os\n",
    "from sklearn.model_selection import train_test_split\n",
    "from keras.utils import to_categorical\n",
    "from keras.models import Sequential, load_model\n",
    "from keras.layers import Conv2D, MaxPool2D, Dense, Flatten, Dropout\n"
   ]
  },
  {
   "cell_type": "code",
   "execution_count": 2,
   "metadata": {},
   "outputs": [],
   "source": [
    "data = []\n",
    "labels = []\n",
    "classes = 43\n",
    "cur_path = os.getcwd()\n",
    "for i in range(classes):\n",
    "    path = os.path.join(cur_path,'train',str(i))\n",
    "    images = os.listdir(path)\n",
    "    for a in images:\n",
    "        try:\n",
    "            image = Image.open(path + '\\\\'+ a)\n",
    "            image = image.resize((30,30))\n",
    "            image = np.array(image)\n",
    "            data.append(image)\n",
    "            labels.append(i)\n",
    "        except:\n",
    "            print(\"Error loading image\")\n",
    "\n",
    "data = np.array(data)\n",
    "labels = np.array(labels)\n",
    "\n",
    "#Randomize the order of the input images\n",
    "s=np.arange(data.shape[0])\n",
    "np.random.seed(43)\n",
    "np.random.shuffle(s)\n",
    "data=data[s]\n",
    "labels=labels[s]"
   ]
  },
  {
   "cell_type": "markdown",
   "metadata": {},
   "source": [
    "Separando Dataset para treino e test\n",
    "\n",
    "Converterndo para one hot encoding"
   ]
  },
  {
   "cell_type": "code",
   "execution_count": 3,
   "metadata": {},
   "outputs": [],
   "source": [
    "#Spliting the images into train and validation sets\n",
    "(X_train,X_val)=data[(int)(0.2*len(labels)):],data[:(int)(0.2*len(labels))]\n",
    "X_train = X_train.astype('float32')/255 \n",
    "X_val = X_val.astype('float32')/255\n",
    "(y_train,y_val)=labels[(int)(0.2*len(labels)):],labels[:(int)(0.2*len(labels))]\n",
    "\n",
    "#Using one hote encoding for the train and validation labels\n",
    "y_train = to_categorical(y_train, 43)\n",
    "y_val = to_categorical(y_val, 43)"
   ]
  },
  {
   "cell_type": "code",
   "execution_count": 4,
   "metadata": {},
   "outputs": [],
   "source": [
    "# plt.figure()\n",
    "# plt.imshow(X_train[70])\n",
    "# plt.colorbar()\n",
    "# plt.grid(False)\n",
    "# plt.show()"
   ]
  },
  {
   "cell_type": "markdown",
   "metadata": {},
   "source": [
    "Criando o modelo"
   ]
  },
  {
   "cell_type": "code",
   "execution_count": 5,
   "metadata": {},
   "outputs": [],
   "source": [
    "model = Sequential()\n",
    "model.add(Conv2D(filters=32, kernel_size=(5,5), activation='relu', input_shape=X_train.shape[1:]))\n",
    "model.add(Conv2D(filters=64, kernel_size=(3, 3), activation='relu'))\n",
    "model.add(MaxPool2D(pool_size=(2, 2)))\n",
    "model.add(Dropout(rate=0.25))\n",
    "model.add(Conv2D(filters=64, kernel_size=(3, 3), activation='relu'))\n",
    "model.add(MaxPool2D(pool_size=(2, 2)))\n",
    "model.add(Dropout(rate=0.25))\n",
    "model.add(Flatten())\n",
    "model.add(Dense(256, activation='relu'))\n",
    "model.add(Dropout(rate=0.5))\n",
    "model.add(Dense(43, activation='softmax'))"
   ]
  },
  {
   "cell_type": "markdown",
   "metadata": {},
   "source": [
    "Compilando o modelo e fazendo o Fit"
   ]
  },
  {
   "cell_type": "code",
   "execution_count": 6,
   "metadata": {},
   "outputs": [
    {
     "name": "stdout",
     "output_type": "stream",
     "text": [
      "Epoch 1/15\n",
      "981/981 [==============================] - 28s 28ms/step - loss: 1.1627 - accuracy: 0.6709 - val_loss: 0.1257 - val_accuracy: 0.9694\n",
      "Epoch 2/15\n",
      "981/981 [==============================] - 27s 27ms/step - loss: 0.2180 - accuracy: 0.9355 - val_loss: 0.0615 - val_accuracy: 0.9850\n",
      "Epoch 3/15\n",
      "981/981 [==============================] - 27s 27ms/step - loss: 0.1326 - accuracy: 0.9599 - val_loss: 0.0568 - val_accuracy: 0.9872\n",
      "Epoch 4/15\n",
      "981/981 [==============================] - 27s 27ms/step - loss: 0.1004 - accuracy: 0.9691 - val_loss: 0.0345 - val_accuracy: 0.9925\n",
      "Epoch 5/15\n",
      "981/981 [==============================] - 27s 28ms/step - loss: 0.0841 - accuracy: 0.9750 - val_loss: 0.0324 - val_accuracy: 0.9922\n",
      "Epoch 6/15\n",
      "981/981 [==============================] - 27s 28ms/step - loss: 0.0738 - accuracy: 0.9763 - val_loss: 0.0306 - val_accuracy: 0.9925\n",
      "Epoch 7/15\n",
      "981/981 [==============================] - 27s 27ms/step - loss: 0.0631 - accuracy: 0.9809 - val_loss: 0.0374 - val_accuracy: 0.9899\n",
      "Epoch 8/15\n",
      "981/981 [==============================] - 27s 27ms/step - loss: 0.0640 - accuracy: 0.9795 - val_loss: 0.0330 - val_accuracy: 0.9916\n",
      "Epoch 9/15\n",
      "981/981 [==============================] - 27s 28ms/step - loss: 0.0501 - accuracy: 0.9848 - val_loss: 0.0279 - val_accuracy: 0.9941\n",
      "Epoch 10/15\n",
      "981/981 [==============================] - 27s 28ms/step - loss: 0.0566 - accuracy: 0.9832 - val_loss: 0.0322 - val_accuracy: 0.9917\n",
      "Epoch 11/15\n",
      "981/981 [==============================] - 27s 28ms/step - loss: 0.0524 - accuracy: 0.9842 - val_loss: 0.0246 - val_accuracy: 0.9944\n",
      "Epoch 12/15\n",
      "981/981 [==============================] - 27s 28ms/step - loss: 0.0437 - accuracy: 0.9867 - val_loss: 0.0303 - val_accuracy: 0.9925\n",
      "Epoch 13/15\n",
      "981/981 [==============================] - 27s 28ms/step - loss: 0.0455 - accuracy: 0.9869 - val_loss: 0.0287 - val_accuracy: 0.9934\n",
      "Epoch 14/15\n",
      "981/981 [==============================] - 28s 29ms/step - loss: 0.0442 - accuracy: 0.9865 - val_loss: 0.0162 - val_accuracy: 0.9971\n",
      "Epoch 15/15\n",
      "981/981 [==============================] - 27s 28ms/step - loss: 0.0390 - accuracy: 0.9881 - val_loss: 0.0196 - val_accuracy: 0.9966\n"
     ]
    }
   ],
   "source": [
    "model.compile(loss='categorical_crossentropy', optimizer='adam', metrics=['accuracy'])\n",
    "\n",
    "epochs = 15\n",
    "history = model.fit(X_train, y_train, batch_size=32, epochs=epochs,validation_data=(X_val, y_val))\n",
    "model.save(\"my_model.h5\")"
   ]
  },
  {
   "cell_type": "markdown",
   "metadata": {},
   "source": [
    "Plotando em graficos\n"
   ]
  },
  {
   "cell_type": "code",
   "execution_count": 7,
   "metadata": {},
   "outputs": [],
   "source": [
    "# plt.figure(0)\n",
    "# plt.plot(history.history['accuracy'], label='training accuracy')\n",
    "# plt.plot(history.history['val_accuracy'], label='val accuracy')\n",
    "# plt.title('Accuracy')\n",
    "# plt.xlabel('epochs')\n",
    "# plt.ylabel('accuracy')\n",
    "# plt.legend()\n",
    "# plt.show()"
   ]
  },
  {
   "cell_type": "code",
   "execution_count": 8,
   "metadata": {},
   "outputs": [],
   "source": [
    "# plt.figure(1)\n",
    "# plt.plot(history.history['loss'], label='training loss')\n",
    "# plt.plot(history.history['val_loss'], label='val loss')\n",
    "# plt.title('Loss')\n",
    "# plt.xlabel('epochs')\n",
    "# plt.ylabel('loss')\n",
    "# plt.legend()\n",
    "# plt.show()"
   ]
  },
  {
   "cell_type": "markdown",
   "metadata": {},
   "source": [
    "Dando Load no modelo"
   ]
  },
  {
   "cell_type": "code",
   "execution_count": 4,
   "metadata": {},
   "outputs": [],
   "source": [
    "model = load_model(\"my_model.h5\")"
   ]
  },
  {
   "cell_type": "markdown",
   "metadata": {},
   "source": [
    "Testando a acuracia com o dataset de test"
   ]
  },
  {
   "cell_type": "code",
   "execution_count": 5,
   "metadata": {},
   "outputs": [
    {
     "name": "stdout",
     "output_type": "stream",
     "text": [
      "395/395 [==============================] - 2s 5ms/step\n",
      "1226/1226 [==============================] - 6s 5ms/step\n"
     ]
    }
   ],
   "source": [
    "y_test = pd.read_csv('input/Test.csv')\n",
    "labels = y_test[\"ClassId\"].values\n",
    "imgs = y_test[\"Path\"].values\n",
    "data=[]\n",
    "for img in imgs:\n",
    "    image = Image.open(img)\n",
    "    image = image.resize((30,30))\n",
    "    data.append(np.array(image))\n",
    "X_test=np.array(data)\n",
    "predict_x=model.predict(X_test) \n",
    "\n",
    "y_test = pd.read_csv('input/Train.csv')\n",
    "labels = y_test[\"ClassId\"].values\n",
    "imgs = y_test[\"Path\"].values\n",
    "data=[]\n",
    "for img in imgs:\n",
    "    image = Image.open(img)\n",
    "    image = image.resize((30,30))\n",
    "    data.append(np.array(image))\n",
    "X_test=np.array(data)\n",
    "predict_x=model.predict(X_test) \n",
    "model.save('traffic_classifier.h5')"
   ]
  }
 ],
 "metadata": {
  "interpreter": {
   "hash": "3f0d44c8b4baa9375433f27d8eb919c7a09c2a0f4a75c77d53660f1a12b87d70"
  },
  "kernelspec": {
   "display_name": "Python 3.9.12 ('base')",
   "language": "python",
   "name": "python3"
  },
  "language_info": {
   "codemirror_mode": {
    "name": "ipython",
    "version": 3
   },
   "file_extension": ".py",
   "mimetype": "text/x-python",
   "name": "python",
   "nbconvert_exporter": "python",
   "pygments_lexer": "ipython3",
   "version": "3.9.12"
  },
  "orig_nbformat": 4
 },
 "nbformat": 4,
 "nbformat_minor": 2
}
