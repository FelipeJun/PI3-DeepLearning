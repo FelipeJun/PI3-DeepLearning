{
 "cells": [
  {
   "cell_type": "code",
   "execution_count": 1,
   "metadata": {},
   "outputs": [],
   "source": [
    "import numpy as np \n",
    "import pandas as pd \n",
    "import matplotlib.pyplot as plt\n",
    "import tensorflow as tf\n",
    "from PIL import Image\n",
    "import os\n",
    "from sklearn.model_selection import train_test_split\n",
    "from keras.utils import to_categorical\n",
    "from keras.models import Sequential, load_model\n",
    "from keras.layers import Conv2D, MaxPool2D, Dense, Flatten, Dropout"
   ]
  },
  {
   "cell_type": "code",
   "execution_count": 2,
   "metadata": {},
   "outputs": [],
   "source": [
    "data = []\n",
    "labels = []\n",
    "classes = 43\n",
    "cur_path = os.getcwd()\n",
    "for i in range(classes):\n",
    "    path = os.path.join(cur_path,'input/train',str(i))\n",
    "    images = os.listdir(path)\n",
    "    for a in images:\n",
    "        try:\n",
    "            image = Image.open(path + '\\\\'+ a)\n",
    "            image = image.resize((30,30))\n",
    "            image = np.array(image)\n",
    "            data.append(image)\n",
    "            labels.append(i)\n",
    "        except:\n",
    "            print(\"Error loading image\")\n",
    "\n",
    "data = np.array(data)\n",
    "labels = np.array(labels)"
   ]
  },
  {
   "cell_type": "markdown",
   "metadata": {},
   "source": [
    "Separando Dataset para treino e test\n",
    "\n",
    "Converterndo para one hot encoding"
   ]
  },
  {
   "cell_type": "code",
   "execution_count": 3,
   "metadata": {},
   "outputs": [
    {
     "name": "stdout",
     "output_type": "stream",
     "text": [
      "(39209, 30, 30, 3) (39209,)\n",
      "(31367, 30, 30, 3) (7842, 30, 30, 3) (31367,) (7842,)\n"
     ]
    }
   ],
   "source": [
    "print(data.shape, labels.shape)\n",
    "X_train, X_test, y_train, y_test = train_test_split(data, labels, test_size=0.2, random_state=42)\n",
    "print(X_train.shape, X_test.shape, y_train.shape, y_test.shape)\n",
    "y_train = to_categorical(y_train, 43)\n",
    "y_test = to_categorical(y_test, 43)\n"
   ]
  },
  {
   "cell_type": "markdown",
   "metadata": {},
   "source": [
    "Criando o modelo"
   ]
  },
  {
   "cell_type": "code",
   "execution_count": 4,
   "metadata": {},
   "outputs": [],
   "source": [
    "model = Sequential()\n",
    "model.add(Conv2D(filters=32, kernel_size=(5,5), activation='relu', input_shape=X_train.shape[1:]))\n",
    "model.add(Conv2D(filters=32, kernel_size=(5,5), activation='relu'))\n",
    "model.add(MaxPool2D(pool_size=(2, 2)))\n",
    "model.add(Dropout(rate=0.25))\n",
    "model.add(Conv2D(filters=64, kernel_size=(3, 3), activation='relu'))\n",
    "model.add(Conv2D(filters=64, kernel_size=(3, 3), activation='relu'))\n",
    "model.add(MaxPool2D(pool_size=(2, 2)))\n",
    "model.add(Dropout(rate=0.25))\n",
    "model.add(Flatten())\n",
    "model.add(Dense(256, activation='relu'))\n",
    "model.add(Dropout(rate=0.5))\n",
    "model.add(Dense(43, activation='softmax'))"
   ]
  },
  {
   "cell_type": "markdown",
   "metadata": {},
   "source": [
    "Compilando o modelo e fazendo o Fit"
   ]
  },
  {
   "cell_type": "code",
   "execution_count": 5,
   "metadata": {},
   "outputs": [
    {
     "name": "stdout",
     "output_type": "stream",
     "text": [
      "Epoch 1/50\n",
      "981/981 [==============================] - 33s 33ms/step - loss: 2.0438 - accuracy: 0.5093 - val_loss: 0.5796 - val_accuracy: 0.8592\n",
      "Epoch 2/50\n",
      "981/981 [==============================] - 32s 32ms/step - loss: 0.8674 - accuracy: 0.7482 - val_loss: 0.3159 - val_accuracy: 0.9194\n",
      "Epoch 3/50\n",
      "981/981 [==============================] - 32s 32ms/step - loss: 0.6955 - accuracy: 0.7951 - val_loss: 0.2302 - val_accuracy: 0.9331\n",
      "Epoch 4/50\n",
      "981/981 [==============================] - 32s 33ms/step - loss: 0.5903 - accuracy: 0.8241 - val_loss: 0.2386 - val_accuracy: 0.9320\n",
      "Epoch 5/50\n",
      "981/981 [==============================] - 32s 33ms/step - loss: 0.4967 - accuracy: 0.8496 - val_loss: 0.1469 - val_accuracy: 0.9612\n",
      "Epoch 6/50\n",
      "981/981 [==============================] - 32s 32ms/step - loss: 0.3990 - accuracy: 0.8802 - val_loss: 0.1142 - val_accuracy: 0.9691\n",
      "Epoch 7/50\n",
      "981/981 [==============================] - 32s 32ms/step - loss: 0.3341 - accuracy: 0.8999 - val_loss: 0.0996 - val_accuracy: 0.9716\n",
      "Epoch 8/50\n",
      "981/981 [==============================] - 32s 33ms/step - loss: 0.3320 - accuracy: 0.9032 - val_loss: 0.0918 - val_accuracy: 0.9737\n",
      "Epoch 9/50\n",
      "981/981 [==============================] - 32s 33ms/step - loss: 0.2686 - accuracy: 0.9224 - val_loss: 0.0808 - val_accuracy: 0.9750\n",
      "Epoch 10/50\n",
      "981/981 [==============================] - 32s 32ms/step - loss: 0.2559 - accuracy: 0.9256 - val_loss: 0.0717 - val_accuracy: 0.9791\n",
      "Epoch 11/50\n",
      "981/981 [==============================] - 32s 32ms/step - loss: 0.2707 - accuracy: 0.9233 - val_loss: 0.0684 - val_accuracy: 0.9824\n",
      "Epoch 12/50\n",
      "981/981 [==============================] - 32s 33ms/step - loss: 0.2468 - accuracy: 0.9300 - val_loss: 0.0736 - val_accuracy: 0.9786\n",
      "Epoch 13/50\n",
      "981/981 [==============================] - 32s 33ms/step - loss: 0.2281 - accuracy: 0.9360 - val_loss: 0.0619 - val_accuracy: 0.9821\n",
      "Epoch 14/50\n",
      "981/981 [==============================] - 32s 32ms/step - loss: 0.2547 - accuracy: 0.9297 - val_loss: 0.0961 - val_accuracy: 0.9719\n",
      "Epoch 15/50\n",
      "981/981 [==============================] - 32s 33ms/step - loss: 0.2465 - accuracy: 0.9300 - val_loss: 0.0537 - val_accuracy: 0.9856\n",
      "Epoch 16/50\n",
      "981/981 [==============================] - 32s 33ms/step - loss: 0.2574 - accuracy: 0.9291 - val_loss: 0.0535 - val_accuracy: 0.9852\n",
      "Epoch 17/50\n",
      "981/981 [==============================] - 32s 32ms/step - loss: 0.2362 - accuracy: 0.9342 - val_loss: 0.1284 - val_accuracy: 0.9623\n",
      "Epoch 18/50\n",
      "981/981 [==============================] - 32s 33ms/step - loss: 0.2284 - accuracy: 0.9368 - val_loss: 0.0737 - val_accuracy: 0.9795\n",
      "Epoch 19/50\n",
      "981/981 [==============================] - 32s 32ms/step - loss: 0.2309 - accuracy: 0.9378 - val_loss: 0.0654 - val_accuracy: 0.9806\n",
      "Epoch 20/50\n",
      "981/981 [==============================] - 32s 33ms/step - loss: 0.2125 - accuracy: 0.9424 - val_loss: 0.0689 - val_accuracy: 0.9788\n",
      "Epoch 21/50\n",
      "981/981 [==============================] - 32s 32ms/step - loss: 0.2274 - accuracy: 0.9378 - val_loss: 0.0561 - val_accuracy: 0.9836\n",
      "Epoch 22/50\n",
      "981/981 [==============================] - 32s 32ms/step - loss: 0.2259 - accuracy: 0.9387 - val_loss: 0.0725 - val_accuracy: 0.9792\n",
      "Epoch 23/50\n",
      "981/981 [==============================] - 32s 33ms/step - loss: 0.2210 - accuracy: 0.9424 - val_loss: 0.1026 - val_accuracy: 0.9700\n",
      "Epoch 24/50\n",
      "981/981 [==============================] - 32s 32ms/step - loss: 0.2817 - accuracy: 0.9257 - val_loss: 0.0638 - val_accuracy: 0.9800\n",
      "Epoch 25/50\n",
      "981/981 [==============================] - 31s 32ms/step - loss: 0.1963 - accuracy: 0.9450 - val_loss: 0.0535 - val_accuracy: 0.9858\n",
      "Epoch 26/50\n",
      "981/981 [==============================] - 31s 32ms/step - loss: 0.2173 - accuracy: 0.9406 - val_loss: 0.0506 - val_accuracy: 0.9847\n",
      "Epoch 27/50\n",
      "981/981 [==============================] - 33s 34ms/step - loss: 0.2218 - accuracy: 0.9402 - val_loss: 0.0988 - val_accuracy: 0.9735\n",
      "Epoch 28/50\n",
      "981/981 [==============================] - 32s 32ms/step - loss: 0.2482 - accuracy: 0.9348 - val_loss: 0.0699 - val_accuracy: 0.9809\n",
      "Epoch 29/50\n",
      "981/981 [==============================] - 31s 32ms/step - loss: 0.2104 - accuracy: 0.9449 - val_loss: 0.0525 - val_accuracy: 0.9837\n",
      "Epoch 30/50\n",
      "981/981 [==============================] - 31s 32ms/step - loss: 0.2234 - accuracy: 0.9419 - val_loss: 0.0608 - val_accuracy: 0.9827\n",
      "Epoch 31/50\n",
      "981/981 [==============================] - 32s 32ms/step - loss: 0.2805 - accuracy: 0.9288 - val_loss: 0.0600 - val_accuracy: 0.9839\n",
      "Epoch 32/50\n",
      "981/981 [==============================] - 32s 32ms/step - loss: 0.2292 - accuracy: 0.9401 - val_loss: 0.0773 - val_accuracy: 0.9795\n",
      "Epoch 33/50\n",
      "981/981 [==============================] - 31s 32ms/step - loss: 0.2158 - accuracy: 0.9437 - val_loss: 0.0509 - val_accuracy: 0.9843\n",
      "Epoch 34/50\n",
      "981/981 [==============================] - 31s 32ms/step - loss: 0.2355 - accuracy: 0.9386 - val_loss: 0.0738 - val_accuracy: 0.9816\n",
      "Epoch 35/50\n",
      "981/981 [==============================] - 32s 33ms/step - loss: 0.2227 - accuracy: 0.9427 - val_loss: 0.0523 - val_accuracy: 0.9852\n",
      "Epoch 36/50\n",
      "981/981 [==============================] - 32s 32ms/step - loss: 0.2305 - accuracy: 0.9412 - val_loss: 0.0487 - val_accuracy: 0.9871\n",
      "Epoch 37/50\n",
      "981/981 [==============================] - 32s 32ms/step - loss: 0.2572 - accuracy: 0.9365 - val_loss: 0.0507 - val_accuracy: 0.9852\n",
      "Epoch 38/50\n",
      "981/981 [==============================] - 32s 32ms/step - loss: 0.2304 - accuracy: 0.9412 - val_loss: 0.0544 - val_accuracy: 0.9864\n",
      "Epoch 39/50\n",
      "981/981 [==============================] - 32s 32ms/step - loss: 0.2374 - accuracy: 0.9410 - val_loss: 0.0554 - val_accuracy: 0.9848\n",
      "Epoch 40/50\n",
      "981/981 [==============================] - 31s 32ms/step - loss: 0.3001 - accuracy: 0.9280 - val_loss: 0.1128 - val_accuracy: 0.9708\n",
      "Epoch 41/50\n",
      "981/981 [==============================] - 31s 32ms/step - loss: 0.1942 - accuracy: 0.9512 - val_loss: 0.0396 - val_accuracy: 0.9890\n",
      "Epoch 42/50\n",
      "981/981 [==============================] - 32s 32ms/step - loss: 0.2529 - accuracy: 0.9381 - val_loss: 0.0560 - val_accuracy: 0.9847\n",
      "Epoch 43/50\n",
      "981/981 [==============================] - 32s 32ms/step - loss: 0.2536 - accuracy: 0.9350 - val_loss: 0.0687 - val_accuracy: 0.9806\n",
      "Epoch 44/50\n",
      "981/981 [==============================] - 32s 32ms/step - loss: 0.2315 - accuracy: 0.9425 - val_loss: 0.0464 - val_accuracy: 0.9872\n",
      "Epoch 45/50\n",
      "981/981 [==============================] - 31s 32ms/step - loss: 0.2177 - accuracy: 0.9455 - val_loss: 0.0456 - val_accuracy: 0.9872\n",
      "Epoch 46/50\n",
      "981/981 [==============================] - 32s 32ms/step - loss: 0.2248 - accuracy: 0.9428 - val_loss: 0.0907 - val_accuracy: 0.9762\n",
      "Epoch 47/50\n",
      "981/981 [==============================] - 32s 32ms/step - loss: 0.2581 - accuracy: 0.9376 - val_loss: 0.0587 - val_accuracy: 0.9832\n",
      "Epoch 48/50\n",
      "981/981 [==============================] - 32s 32ms/step - loss: 0.2182 - accuracy: 0.9467 - val_loss: 0.0898 - val_accuracy: 0.9749\n",
      "Epoch 49/50\n",
      "981/981 [==============================] - 32s 32ms/step - loss: 0.2868 - accuracy: 0.9344 - val_loss: 0.0613 - val_accuracy: 0.9842\n",
      "Epoch 50/50\n",
      "981/981 [==============================] - 32s 32ms/step - loss: 0.2287 - accuracy: 0.9444 - val_loss: 0.0630 - val_accuracy: 0.9843\n"
     ]
    }
   ],
   "source": [
    "model.compile(loss='categorical_crossentropy', optimizer='adam', metrics=['accuracy'])\n",
    "\n",
    "epochs = 50\n",
    "history = model.fit(X_train, y_train, batch_size=32, epochs=epochs, validation_data=(X_test, y_test))\n",
    "model.save(\"my_model.h5\")"
   ]
  },
  {
   "cell_type": "markdown",
   "metadata": {},
   "source": [
    "Plotando em graficos\n"
   ]
  },
  {
   "cell_type": "code",
   "execution_count": 6,
   "metadata": {},
   "outputs": [],
   "source": [
    "# plt.figure(0)\n",
    "# plt.plot(history.history['accuracy'], label='training accuracy')\n",
    "# plt.plot(history.history['val_accuracy'], label='val accuracy')\n",
    "# plt.title('Accuracy')\n",
    "# plt.xlabel('epochs')\n",
    "# plt.ylabel('accuracy')\n",
    "# plt.legend()\n",
    "# plt.show()"
   ]
  },
  {
   "cell_type": "code",
   "execution_count": 7,
   "metadata": {},
   "outputs": [],
   "source": [
    "# plt.figure(1)\n",
    "# plt.plot(history.history['loss'], label='training loss')\n",
    "# plt.plot(history.history['val_loss'], label='val loss')\n",
    "# plt.title('Loss')\n",
    "# plt.xlabel('epochs')\n",
    "# plt.ylabel('loss')\n",
    "# plt.legend()\n",
    "# plt.show()"
   ]
  },
  {
   "cell_type": "markdown",
   "metadata": {},
   "source": [
    "Dando Load no modelo"
   ]
  },
  {
   "cell_type": "code",
   "execution_count": 8,
   "metadata": {},
   "outputs": [],
   "source": [
    "model = load_model(\"my_model.h5\")"
   ]
  },
  {
   "cell_type": "markdown",
   "metadata": {},
   "source": [
    "Testando a acuracia com o dataset de test"
   ]
  },
  {
   "cell_type": "code",
   "execution_count": 9,
   "metadata": {},
   "outputs": [
    {
     "name": "stdout",
     "output_type": "stream",
     "text": [
      "395/395 [==============================] - 2s 6ms/step\n"
     ]
    }
   ],
   "source": [
    "y_test = pd.read_csv('input/Test.csv')\n",
    "labels = y_test[\"ClassId\"].values\n",
    "imgs = y_test[\"Path\"].values\n",
    "data=[]\n",
    "for img in imgs:\n",
    "    image = Image.open(img)\n",
    "    image = image.resize((30,30))\n",
    "    data.append(np.array(image))\n",
    "X_test=np.array(data)\n",
    "predict_x=model.predict(X_test) \n",
    "model.save('traffic_classifier.h5')"
   ]
  }
 ],
 "metadata": {
  "interpreter": {
   "hash": "3f0d44c8b4baa9375433f27d8eb919c7a09c2a0f4a75c77d53660f1a12b87d70"
  },
  "kernelspec": {
   "display_name": "Python 3.9.12 ('base')",
   "language": "python",
   "name": "python3"
  },
  "language_info": {
   "codemirror_mode": {
    "name": "ipython",
    "version": 3
   },
   "file_extension": ".py",
   "mimetype": "text/x-python",
   "name": "python",
   "nbconvert_exporter": "python",
   "pygments_lexer": "ipython3",
   "version": "3.9.12"
  },
  "orig_nbformat": 4
 },
 "nbformat": 4,
 "nbformat_minor": 2
}
