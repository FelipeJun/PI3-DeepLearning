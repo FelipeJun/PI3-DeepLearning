{
 "cells": [
  {
   "cell_type": "code",
   "execution_count": 1,
   "metadata": {},
   "outputs": [],
   "source": [
    "import numpy as np \n",
    "import pandas as pd \n",
    "import matplotlib.pyplot as plt\n",
    "import tensorflow as tf\n",
    "from PIL import Image\n",
    "import os\n",
    "from sklearn.model_selection import train_test_split\n",
    "from keras.utils import to_categorical\n",
    "from keras.models import Sequential, load_model\n",
    "from keras.layers import Conv2D, MaxPool2D, Dense, Flatten, Dropout\n"
   ]
  },
  {
   "cell_type": "code",
   "execution_count": 2,
   "metadata": {},
   "outputs": [],
   "source": [
    "data = []\n",
    "labels = []\n",
    "classes = 43\n",
    "cur_path = os.getcwd()\n",
    "for i in range(classes):\n",
    "    path = os.path.join(cur_path,'train',str(i))\n",
    "    images = os.listdir(path)\n",
    "    for a in images:\n",
    "        try:\n",
    "            image = Image.open(path + '\\\\'+ a)\n",
    "            image = image.resize((30,30))\n",
    "            image = np.array(image)\n",
    "            data.append(image)\n",
    "            labels.append(i)\n",
    "        except:\n",
    "            print(\"Error loading image\")\n",
    "\n",
    "data = np.array(data)\n",
    "labels = np.array(labels)"
   ]
  },
  {
   "cell_type": "markdown",
   "metadata": {},
   "source": [
    "Separando Dataset para treino e test\n",
    "\n",
    "Converterndo para one hot encoding"
   ]
  },
  {
   "cell_type": "code",
   "execution_count": 3,
   "metadata": {},
   "outputs": [
    {
     "name": "stdout",
     "output_type": "stream",
     "text": [
      "(39209, 30, 30, 3) (39209,)\n",
      "(31367, 30, 30, 3) (7842, 30, 30, 3) (31367,) (7842,)\n"
     ]
    }
   ],
   "source": [
    "print(data.shape, labels.shape)\n",
    "X_train, X_test, y_train, y_test = train_test_split(data, labels, test_size=0.2, random_state=42)\n",
    "print(X_train.shape, X_test.shape, y_train.shape, y_test.shape)\n",
    "y_train = to_categorical(y_train, 43)\n",
    "y_test = to_categorical(y_test, 43)"
   ]
  },
  {
   "cell_type": "code",
   "execution_count": 4,
   "metadata": {},
   "outputs": [],
   "source": [
    "# plt.figure()\n",
    "# plt.imshow(X_train[70])\n",
    "# plt.colorbar()\n",
    "# plt.grid(False)\n",
    "# plt.show()"
   ]
  },
  {
   "cell_type": "markdown",
   "metadata": {},
   "source": [
    "Criando o modelo"
   ]
  },
  {
   "cell_type": "code",
   "execution_count": 5,
   "metadata": {},
   "outputs": [],
   "source": [
    "model = Sequential()\n",
    "model.add(Conv2D(filters=32, kernel_size=(5,5), activation='relu', input_shape=X_train.shape[1:]))\n",
    "model.add(Conv2D(filters=32, kernel_size=(5,5), activation='relu'))\n",
    "model.add(MaxPool2D(pool_size=(2, 2)))\n",
    "model.add(Dropout(rate=0.25))\n",
    "model.add(Conv2D(filters=64, kernel_size=(3, 3), activation='relu'))\n",
    "model.add(Conv2D(filters=64, kernel_size=(3, 3), activation='relu'))\n",
    "model.add(MaxPool2D(pool_size=(2, 2)))\n",
    "model.add(Dropout(rate=0.25))\n",
    "model.add(Flatten())\n",
    "model.add(Dense(256, activation='relu'))\n",
    "model.add(Dropout(rate=0.5))\n",
    "model.add(Dense(43, activation='softmax'))"
   ]
  },
  {
   "cell_type": "markdown",
   "metadata": {},
   "source": [
    "Compilando o modelo e fazendo o Fit"
   ]
  },
  {
   "cell_type": "code",
   "execution_count": 6,
   "metadata": {},
   "outputs": [
    {
     "name": "stdout",
     "output_type": "stream",
     "text": [
      "Epoch 1/25\n",
      "981/981 [==============================] - 32s 32ms/step - loss: 1.6665 - accuracy: 0.5799 - val_loss: 0.3246 - val_accuracy: 0.9251\n",
      "Epoch 2/25\n",
      "981/981 [==============================] - 31s 31ms/step - loss: 0.5042 - accuracy: 0.8586 - val_loss: 0.1114 - val_accuracy: 0.9717\n",
      "Epoch 3/25\n",
      "981/981 [==============================] - 31s 31ms/step - loss: 0.3230 - accuracy: 0.9101 - val_loss: 0.0845 - val_accuracy: 0.9786\n",
      "Epoch 4/25\n",
      "981/981 [==============================] - 31s 31ms/step - loss: 0.2454 - accuracy: 0.9322 - val_loss: 0.1115 - val_accuracy: 0.9688\n",
      "Epoch 5/25\n",
      "981/981 [==============================] - 31s 31ms/step - loss: 0.2278 - accuracy: 0.9395 - val_loss: 0.0724 - val_accuracy: 0.9792\n",
      "Epoch 6/25\n",
      "981/981 [==============================] - 31s 32ms/step - loss: 0.2540 - accuracy: 0.9353 - val_loss: 0.0685 - val_accuracy: 0.9811\n",
      "Epoch 7/25\n",
      "981/981 [==============================] - 31s 32ms/step - loss: 0.2180 - accuracy: 0.9440 - val_loss: 0.0496 - val_accuracy: 0.9875\n",
      "Epoch 8/25\n",
      "981/981 [==============================] - 31s 31ms/step - loss: 0.2396 - accuracy: 0.9397 - val_loss: 0.0459 - val_accuracy: 0.9870\n",
      "Epoch 9/25\n",
      "981/981 [==============================] - 31s 31ms/step - loss: 0.2219 - accuracy: 0.9439 - val_loss: 0.0797 - val_accuracy: 0.9792\n",
      "Epoch 10/25\n",
      "981/981 [==============================] - 31s 32ms/step - loss: 0.2235 - accuracy: 0.9455 - val_loss: 0.0379 - val_accuracy: 0.9892\n",
      "Epoch 11/25\n",
      "981/981 [==============================] - 32s 33ms/step - loss: 0.1946 - accuracy: 0.9513 - val_loss: 0.0407 - val_accuracy: 0.9895\n",
      "Epoch 12/25\n",
      "981/981 [==============================] - 33s 34ms/step - loss: 0.2391 - accuracy: 0.9439 - val_loss: 0.0402 - val_accuracy: 0.9879\n",
      "Epoch 13/25\n",
      "981/981 [==============================] - 32s 33ms/step - loss: 0.2186 - accuracy: 0.9481 - val_loss: 0.0550 - val_accuracy: 0.9855\n",
      "Epoch 14/25\n",
      "981/981 [==============================] - 32s 33ms/step - loss: 0.1840 - accuracy: 0.9549 - val_loss: 0.0426 - val_accuracy: 0.9884\n",
      "Epoch 15/25\n",
      "981/981 [==============================] - 33s 33ms/step - loss: 0.2322 - accuracy: 0.9479 - val_loss: 0.0737 - val_accuracy: 0.9807\n",
      "Epoch 16/25\n",
      "981/981 [==============================] - 32s 32ms/step - loss: 0.1962 - accuracy: 0.9550 - val_loss: 0.0493 - val_accuracy: 0.9870\n",
      "Epoch 17/25\n",
      "981/981 [==============================] - 32s 33ms/step - loss: 0.2181 - accuracy: 0.9512 - val_loss: 0.0487 - val_accuracy: 0.9880\n",
      "Epoch 18/25\n",
      "981/981 [==============================] - 32s 33ms/step - loss: 0.2173 - accuracy: 0.9531 - val_loss: 0.0713 - val_accuracy: 0.9834\n",
      "Epoch 19/25\n",
      "981/981 [==============================] - 32s 33ms/step - loss: 0.2093 - accuracy: 0.9537 - val_loss: 0.0526 - val_accuracy: 0.9866\n",
      "Epoch 20/25\n",
      "981/981 [==============================] - 32s 32ms/step - loss: 0.1979 - accuracy: 0.9561 - val_loss: 0.1576 - val_accuracy: 0.9558\n",
      "Epoch 21/25\n",
      "981/981 [==============================] - 32s 33ms/step - loss: 0.2166 - accuracy: 0.9510 - val_loss: 0.0536 - val_accuracy: 0.9864\n",
      "Epoch 22/25\n",
      "981/981 [==============================] - 33s 33ms/step - loss: 0.2535 - accuracy: 0.9463 - val_loss: 0.0714 - val_accuracy: 0.9846\n",
      "Epoch 23/25\n",
      "981/981 [==============================] - 32s 33ms/step - loss: 0.2470 - accuracy: 0.9503 - val_loss: 0.0492 - val_accuracy: 0.9879\n",
      "Epoch 24/25\n",
      "981/981 [==============================] - 32s 33ms/step - loss: 0.2171 - accuracy: 0.9539 - val_loss: 0.0376 - val_accuracy: 0.9913\n",
      "Epoch 25/25\n",
      "981/981 [==============================] - 32s 33ms/step - loss: 0.2028 - accuracy: 0.9579 - val_loss: 0.0475 - val_accuracy: 0.9880\n"
     ]
    }
   ],
   "source": [
    "model.compile(loss='categorical_crossentropy', optimizer='adam', metrics=['accuracy'])\n",
    "\n",
    "epochs = 25\n",
    "history = model.fit(X_train, y_train, batch_size=32, epochs=epochs, validation_data=(X_test, y_test))\n",
    "model.save(\"my_model.h5\")"
   ]
  },
  {
   "cell_type": "markdown",
   "metadata": {},
   "source": [
    "Plotando em graficos\n"
   ]
  },
  {
   "cell_type": "code",
   "execution_count": 7,
   "metadata": {},
   "outputs": [],
   "source": [
    "# plt.figure(0)\n",
    "# plt.plot(history.history['accuracy'], label='training accuracy')\n",
    "# plt.plot(history.history['val_accuracy'], label='val accuracy')\n",
    "# plt.title('Accuracy')\n",
    "# plt.xlabel('epochs')\n",
    "# plt.ylabel('accuracy')\n",
    "# plt.legend()\n",
    "# plt.show()"
   ]
  },
  {
   "cell_type": "code",
   "execution_count": 8,
   "metadata": {},
   "outputs": [],
   "source": [
    "# plt.figure(1)\n",
    "# plt.plot(history.history['loss'], label='training loss')\n",
    "# plt.plot(history.history['val_loss'], label='val loss')\n",
    "# plt.title('Loss')\n",
    "# plt.xlabel('epochs')\n",
    "# plt.ylabel('loss')\n",
    "# plt.legend()\n",
    "# plt.show()"
   ]
  },
  {
   "cell_type": "markdown",
   "metadata": {},
   "source": [
    "Dando Load no modelo"
   ]
  },
  {
   "cell_type": "code",
   "execution_count": 9,
   "metadata": {},
   "outputs": [],
   "source": [
    "model = load_model(\"my_model.h5\")"
   ]
  },
  {
   "cell_type": "markdown",
   "metadata": {},
   "source": [
    "Testando a acuracia com o dataset de test"
   ]
  },
  {
   "cell_type": "code",
   "execution_count": 10,
   "metadata": {},
   "outputs": [
    {
     "name": "stdout",
     "output_type": "stream",
     "text": [
      "1226/1226 [==============================] - 7s 6ms/step\n",
      "395/395 [==============================] - 2s 6ms/step\n"
     ]
    }
   ],
   "source": [
    "y_test = pd.read_csv('input/Train.csv')\n",
    "labels = y_test[\"ClassId\"].values\n",
    "imgs = y_test[\"Path\"].values\n",
    "data=[]\n",
    "for img in imgs:\n",
    "    image = Image.open(img)\n",
    "    image = image.resize((30,30))\n",
    "    data.append(np.array(image))\n",
    "X_test=np.array(data)\n",
    "predict_x=model.predict(X_test) \n",
    "\n",
    "y_test = pd.read_csv('input/Test.csv')\n",
    "labels = y_test[\"ClassId\"].values\n",
    "imgs = y_test[\"Path\"].values\n",
    "data=[]\n",
    "for img in imgs:\n",
    "    image = Image.open(img)\n",
    "    image = image.resize((30,30))\n",
    "    data.append(np.array(image))\n",
    "X_test=np.array(data)\n",
    "predict_x=model.predict(X_test)\n",
    "model.save('traffic_classifier.h5')"
   ]
  }
 ],
 "metadata": {
  "interpreter": {
   "hash": "3f0d44c8b4baa9375433f27d8eb919c7a09c2a0f4a75c77d53660f1a12b87d70"
  },
  "kernelspec": {
   "display_name": "Python 3.9.12 ('base')",
   "language": "python",
   "name": "python3"
  },
  "language_info": {
   "codemirror_mode": {
    "name": "ipython",
    "version": 3
   },
   "file_extension": ".py",
   "mimetype": "text/x-python",
   "name": "python",
   "nbconvert_exporter": "python",
   "pygments_lexer": "ipython3",
   "version": "3.9.12"
  },
  "orig_nbformat": 4
 },
 "nbformat": 4,
 "nbformat_minor": 2
}
