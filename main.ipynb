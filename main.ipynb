{
 "cells": [
  {
   "cell_type": "code",
   "execution_count": 2,
   "metadata": {},
   "outputs": [],
   "source": [
    "import numpy as np \n",
    "import pandas as pd \n",
    "import matplotlib.pyplot as plt\n",
    "import tensorflow as tf\n",
    "from PIL import Image\n",
    "import os\n",
    "from sklearn.model_selection import train_test_split\n",
    "from keras.utils import to_categorical\n",
    "from keras.models import Sequential, load_model\n",
    "from keras.layers import Conv2D, MaxPool2D, Dense, Flatten, Dropout"
   ]
  },
  {
   "cell_type": "code",
   "execution_count": 7,
   "metadata": {},
   "outputs": [],
   "source": [
    "data = []\n",
    "labels = []\n",
    "classes = 43\n",
    "cur_path = os.getcwd()\n",
    "for i in range(classes):\n",
    "    path = os.path.join(cur_path,'input/train',str(i))\n",
    "    images = os.listdir(path)\n",
    "    for a in images:\n",
    "        try:\n",
    "            image = Image.open(path + '\\\\'+ a)\n",
    "            image = image.resize((30,30))\n",
    "            image = np.array(image)\n",
    "            data.append(image)\n",
    "            labels.append(i)\n",
    "        except:\n",
    "            print(\"Error loading image\")\n",
    "\n",
    "data = np.array(data)\n",
    "labels = np.array(labels)"
   ]
  },
  {
   "cell_type": "markdown",
   "metadata": {},
   "source": [
    "Separando Dataset para treino e test\n",
    "\n",
    "Converterndo para one hot encoding"
   ]
  },
  {
   "cell_type": "code",
   "execution_count": 8,
   "metadata": {},
   "outputs": [
    {
     "name": "stdout",
     "output_type": "stream",
     "text": [
      "(39209, 30, 30, 3) (39209,)\n",
      "(31367, 30, 30, 3) (7842, 30, 30, 3) (31367,) (7842,)\n"
     ]
    }
   ],
   "source": [
    "print(data.shape, labels.shape)\n",
    "X_train, X_test, y_train, y_test = train_test_split(data, labels, test_size=0.2, random_state=42)\n",
    "print(X_train.shape, X_test.shape, y_train.shape, y_test.shape)\n",
    "y_train = to_categorical(y_train, 43)\n",
    "y_test = to_categorical(y_test, 43)\n"
   ]
  },
  {
   "cell_type": "markdown",
   "metadata": {},
   "source": [
    "Criando o modelo"
   ]
  },
  {
   "cell_type": "code",
   "execution_count": 9,
   "metadata": {},
   "outputs": [],
   "source": [
    "model = Sequential()\n",
    "model.add(Conv2D(filters=32, kernel_size=(5,5), activation='relu', input_shape=X_train.shape[1:]))\n",
    "model.add(Conv2D(filters=32, kernel_size=(5,5), activation='relu'))\n",
    "model.add(MaxPool2D(pool_size=(2, 2)))\n",
    "model.add(Dropout(rate=0.25))\n",
    "model.add(Conv2D(filters=64, kernel_size=(3, 3), activation='relu'))\n",
    "model.add(Conv2D(filters=64, kernel_size=(3, 3), activation='relu'))\n",
    "model.add(MaxPool2D(pool_size=(2, 2)))\n",
    "model.add(Dropout(rate=0.25))\n",
    "model.add(Flatten())\n",
    "model.add(Dense(256, activation='relu'))\n",
    "model.add(Dropout(rate=0.5))\n",
    "model.add(Dense(43, activation='softmax'))"
   ]
  },
  {
   "cell_type": "markdown",
   "metadata": {},
   "source": [
    "Compilando o modelo e fazendo o Fit"
   ]
  },
  {
   "cell_type": "code",
   "execution_count": 10,
   "metadata": {},
   "outputs": [
    {
     "name": "stdout",
     "output_type": "stream",
     "text": [
      "Epoch 1/15\n",
      "981/981 [==============================] - 33s 33ms/step - loss: 2.1106 - accuracy: 0.4797 - val_loss: 0.5825 - val_accuracy: 0.8681\n",
      "Epoch 2/15\n",
      "981/981 [==============================] - 34s 35ms/step - loss: 0.7240 - accuracy: 0.7873 - val_loss: 0.2382 - val_accuracy: 0.9433\n",
      "Epoch 3/15\n",
      "981/981 [==============================] - 35s 36ms/step - loss: 0.4378 - accuracy: 0.8742 - val_loss: 0.2170 - val_accuracy: 0.9361\n",
      "Epoch 4/15\n",
      "981/981 [==============================] - 34s 35ms/step - loss: 0.3611 - accuracy: 0.8971 - val_loss: 0.1133 - val_accuracy: 0.9668\n",
      "Epoch 5/15\n",
      "981/981 [==============================] - 32s 33ms/step - loss: 0.3015 - accuracy: 0.9142 - val_loss: 0.1101 - val_accuracy: 0.9681\n",
      "Epoch 6/15\n",
      "981/981 [==============================] - 32s 33ms/step - loss: 0.2640 - accuracy: 0.9265 - val_loss: 0.1114 - val_accuracy: 0.9699\n",
      "Epoch 7/15\n",
      "981/981 [==============================] - 32s 33ms/step - loss: 0.2434 - accuracy: 0.9321 - val_loss: 0.0751 - val_accuracy: 0.9805\n",
      "Epoch 8/15\n",
      "981/981 [==============================] - 33s 34ms/step - loss: 0.2455 - accuracy: 0.9324 - val_loss: 0.0777 - val_accuracy: 0.9795\n",
      "Epoch 9/15\n",
      "981/981 [==============================] - 33s 33ms/step - loss: 0.2168 - accuracy: 0.9416 - val_loss: 0.0564 - val_accuracy: 0.9839\n",
      "Epoch 10/15\n",
      "981/981 [==============================] - 33s 33ms/step - loss: 0.2140 - accuracy: 0.9407 - val_loss: 0.0630 - val_accuracy: 0.9816\n",
      "Epoch 11/15\n",
      "981/981 [==============================] - 33s 34ms/step - loss: 0.2179 - accuracy: 0.9405 - val_loss: 0.0590 - val_accuracy: 0.9855\n",
      "Epoch 12/15\n",
      "981/981 [==============================] - 33s 33ms/step - loss: 0.2050 - accuracy: 0.9458 - val_loss: 0.0867 - val_accuracy: 0.9753\n",
      "Epoch 13/15\n",
      "981/981 [==============================] - 33s 33ms/step - loss: 0.2194 - accuracy: 0.9442 - val_loss: 0.1012 - val_accuracy: 0.9725\n",
      "Epoch 14/15\n",
      "981/981 [==============================] - 33s 33ms/step - loss: 0.2148 - accuracy: 0.9457 - val_loss: 0.1027 - val_accuracy: 0.9708\n",
      "Epoch 15/15\n",
      "981/981 [==============================] - 33s 33ms/step - loss: 0.2160 - accuracy: 0.9446 - val_loss: 0.0548 - val_accuracy: 0.9853\n"
     ]
    }
   ],
   "source": [
    "model.compile(loss='categorical_crossentropy', optimizer='adam', metrics=['accuracy'])\n",
    "\n",
    "epochs = 50\n",
    "history = model.fit(X_train, y_train, batch_size=32, epochs=epochs, validation_data=(X_test, y_test))\n",
    "model.save(\"my_model.h5\")"
   ]
  },
  {
   "cell_type": "markdown",
   "metadata": {},
   "source": [
    "Plotando em graficos\n"
   ]
  },
  {
   "cell_type": "code",
   "execution_count": null,
   "metadata": {},
   "outputs": [],
   "source": [
    "plt.figure(0)\n",
    "plt.plot(history.history['accuracy'], label='training accuracy')\n",
    "plt.plot(history.history['val_accuracy'], label='val accuracy')\n",
    "plt.title('Accuracy')\n",
    "plt.xlabel('epochs')\n",
    "plt.ylabel('accuracy')\n",
    "plt.legend()\n",
    "plt.show()"
   ]
  },
  {
   "cell_type": "code",
   "execution_count": null,
   "metadata": {},
   "outputs": [],
   "source": [
    "plt.figure(1)\n",
    "plt.plot(history.history['loss'], label='training loss')\n",
    "plt.plot(history.history['val_loss'], label='val loss')\n",
    "plt.title('Loss')\n",
    "plt.xlabel('epochs')\n",
    "plt.ylabel('loss')\n",
    "plt.legend()\n",
    "plt.show()"
   ]
  },
  {
   "cell_type": "markdown",
   "metadata": {},
   "source": [
    "Dando Load no modelo"
   ]
  },
  {
   "cell_type": "code",
   "execution_count": 5,
   "metadata": {},
   "outputs": [],
   "source": [
    "model = load_model(\"my_model.h5\")"
   ]
  },
  {
   "cell_type": "markdown",
   "metadata": {},
   "source": [
    "Testando a acuracia com o dataset de test"
   ]
  },
  {
   "cell_type": "code",
   "execution_count": 8,
   "metadata": {},
   "outputs": [
    {
     "name": "stdout",
     "output_type": "stream",
     "text": [
      "395/395 [==============================] - 3s 7ms/step\n"
     ]
    }
   ],
   "source": [
    "y_test = pd.read_csv('input/Test.csv')\n",
    "labels = y_test[\"ClassId\"].values\n",
    "imgs = y_test[\"Path\"].values\n",
    "data=[]\n",
    "for img in imgs:\n",
    "    image = Image.open(img)\n",
    "    image = image.resize((30,30))\n",
    "    data.append(np.array(image))\n",
    "X_test=np.array(data)\n",
    "predict_x=model.predict(X_test) \n",
    "model.save('traffic_classifier.h5')"
   ]
  }
 ],
 "metadata": {
  "interpreter": {
   "hash": "3f0d44c8b4baa9375433f27d8eb919c7a09c2a0f4a75c77d53660f1a12b87d70"
  },
  "kernelspec": {
   "display_name": "Python 3.9.12 ('base')",
   "language": "python",
   "name": "python3"
  },
  "language_info": {
   "codemirror_mode": {
    "name": "ipython",
    "version": 3
   },
   "file_extension": ".py",
   "mimetype": "text/x-python",
   "name": "python",
   "nbconvert_exporter": "python",
   "pygments_lexer": "ipython3",
   "version": "3.9.12"
  },
  "orig_nbformat": 4
 },
 "nbformat": 4,
 "nbformat_minor": 2
}
