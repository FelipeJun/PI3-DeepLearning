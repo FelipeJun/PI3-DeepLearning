{
 "cells": [
  {
   "cell_type": "code",
   "execution_count": 2,
   "metadata": {},
   "outputs": [],
   "source": [
    "import numpy as np \n",
    "import pandas as pd \n",
    "import matplotlib.pyplot as plt\n",
    "import tensorflow as tf\n",
    "from PIL import Image\n",
    "import os\n",
    "from sklearn.model_selection import train_test_split\n",
    "from keras.utils import to_categorical\n",
    "from keras.models import Sequential, load_model\n",
    "from keras.layers import Conv2D, MaxPool2D, Dense, Flatten, Dropout\n"
   ]
  },
  {
   "cell_type": "markdown",
   "metadata": {},
   "source": [
    "Pegando as images de treino"
   ]
  },
  {
   "cell_type": "code",
   "execution_count": 2,
   "metadata": {},
   "outputs": [],
   "source": [
    "data = []\n",
    "labels = []\n",
    "classes = 43\n",
    "cur_path = os.getcwd()\n",
    "for i in range(classes):\n",
    "    path = os.path.join(cur_path,'train',str(i))\n",
    "    images = os.listdir(path)\n",
    "    for a in images:\n",
    "        try:\n",
    "            image = Image.open(path + '\\\\'+ a)\n",
    "            image = image.resize((30,30))\n",
    "            image = np.array(image)\n",
    "            data.append(image)\n",
    "            labels.append(i)\n",
    "        except:\n",
    "            print(\"Error loading image\")\n",
    "\n",
    "data = np.array(data)\n",
    "labels = np.array(labels)"
   ]
  },
  {
   "cell_type": "markdown",
   "metadata": {},
   "source": [
    "Separando Dataset para treino e test\n",
    "\n",
    "Converterndo para one hot encoding"
   ]
  },
  {
   "cell_type": "code",
   "execution_count": 3,
   "metadata": {},
   "outputs": [
    {
     "name": "stdout",
     "output_type": "stream",
     "text": [
      "(39209, 30, 30, 3) (39209,)\n",
      "(31367, 30, 30, 3) (7842, 30, 30, 3) (31367,) (7842,)\n"
     ]
    }
   ],
   "source": [
    "print(data.shape, labels.shape)\n",
    "X_train, X_test, y_train, y_test = train_test_split(data, labels, test_size=0.2, random_state=42)\n",
    "print(X_train.shape, X_test.shape, y_train.shape, y_test.shape)\n",
    "y_train = to_categorical(y_train, 43)\n",
    "y_test = to_categorical(y_test, 43)"
   ]
  },
  {
   "cell_type": "code",
   "execution_count": 4,
   "metadata": {},
   "outputs": [],
   "source": [
    "# plt.figure()\n",
    "# plt.imshow(X_train[70])\n",
    "# plt.colorbar()\n",
    "# plt.grid(False)\n",
    "# plt.show()"
   ]
  },
  {
   "cell_type": "markdown",
   "metadata": {},
   "source": [
    "Criando o modelo"
   ]
  },
  {
   "cell_type": "code",
   "execution_count": 5,
   "metadata": {},
   "outputs": [],
   "source": [
    "model = Sequential()\n",
    "model.add(Conv2D(filters=32, kernel_size=(5,5), activation='relu', input_shape=X_train.shape[1:]))\n",
    "model.add(Conv2D(filters=64, kernel_size=(3, 3), activation='relu'))\n",
    "model.add(MaxPool2D(pool_size=(2, 2)))\n",
    "model.add(Dropout(rate=0.25))\n",
    "model.add(Conv2D(filters=64, kernel_size=(3, 3), activation='relu'))\n",
    "model.add(MaxPool2D(pool_size=(2, 2)))\n",
    "model.add(Dropout(rate=0.25))\n",
    "model.add(Flatten())\n",
    "model.add(Dense(256, activation='relu'))\n",
    "model.add(Dropout(rate=0.5))\n",
    "model.add(Dense(43, activation='softmax'))\n"
   ]
  },
  {
   "cell_type": "markdown",
   "metadata": {},
   "source": [
    "Compilando o modelo e fazendo o Fit"
   ]
  },
  {
   "cell_type": "code",
   "execution_count": 6,
   "metadata": {},
   "outputs": [
    {
     "name": "stdout",
     "output_type": "stream",
     "text": [
      "Epoch 1/100\n",
      "981/981 [==============================] - 28s 28ms/step - loss: 1.7024 - accuracy: 0.5981 - val_loss: 0.3192 - val_accuracy: 0.9369\n",
      "Epoch 2/100\n",
      "981/981 [==============================] - 27s 28ms/step - loss: 0.4337 - accuracy: 0.8735 - val_loss: 0.1053 - val_accuracy: 0.9740\n",
      "Epoch 3/100\n",
      "981/981 [==============================] - 29s 29ms/step - loss: 0.3164 - accuracy: 0.9108 - val_loss: 0.1108 - val_accuracy: 0.9737\n",
      "Epoch 4/100\n",
      "981/981 [==============================] - 29s 29ms/step - loss: 0.2606 - accuracy: 0.9286 - val_loss: 0.0702 - val_accuracy: 0.9820\n",
      "Epoch 5/100\n",
      "981/981 [==============================] - 28s 29ms/step - loss: 0.2271 - accuracy: 0.9371 - val_loss: 0.0702 - val_accuracy: 0.9836\n",
      "Epoch 6/100\n",
      "981/981 [==============================] - 34s 35ms/step - loss: 0.2267 - accuracy: 0.9386 - val_loss: 0.0806 - val_accuracy: 0.9787\n",
      "Epoch 7/100\n",
      "981/981 [==============================] - 29s 30ms/step - loss: 0.2076 - accuracy: 0.9450 - val_loss: 0.0378 - val_accuracy: 0.9930\n",
      "Epoch 8/100\n",
      "981/981 [==============================] - 27s 28ms/step - loss: 0.1974 - accuracy: 0.9491 - val_loss: 0.0299 - val_accuracy: 0.9949\n",
      "Epoch 9/100\n",
      "981/981 [==============================] - 27s 28ms/step - loss: 0.2037 - accuracy: 0.9485 - val_loss: 0.0344 - val_accuracy: 0.9926\n",
      "Epoch 10/100\n",
      "981/981 [==============================] - 27s 28ms/step - loss: 0.2084 - accuracy: 0.9486 - val_loss: 0.0300 - val_accuracy: 0.9925\n",
      "Epoch 11/100\n",
      "981/981 [==============================] - 27s 28ms/step - loss: 0.1900 - accuracy: 0.9547 - val_loss: 0.0381 - val_accuracy: 0.9912\n",
      "Epoch 12/100\n",
      "981/981 [==============================] - 27s 28ms/step - loss: 0.2137 - accuracy: 0.9516 - val_loss: 0.0463 - val_accuracy: 0.9892\n",
      "Epoch 13/100\n",
      "981/981 [==============================] - 28s 29ms/step - loss: 0.2231 - accuracy: 0.9506 - val_loss: 0.0384 - val_accuracy: 0.9932\n",
      "Epoch 14/100\n",
      "981/981 [==============================] - 27s 28ms/step - loss: 0.1795 - accuracy: 0.9620 - val_loss: 0.0607 - val_accuracy: 0.9848\n",
      "Epoch 15/100\n",
      "981/981 [==============================] - 27s 28ms/step - loss: 0.2139 - accuracy: 0.9550 - val_loss: 0.0401 - val_accuracy: 0.9901\n",
      "Epoch 16/100\n",
      "981/981 [==============================] - 27s 28ms/step - loss: 0.1759 - accuracy: 0.9621 - val_loss: 0.0326 - val_accuracy: 0.9943\n",
      "Epoch 17/100\n",
      "981/981 [==============================] - 27s 28ms/step - loss: 0.2107 - accuracy: 0.9561 - val_loss: 0.0337 - val_accuracy: 0.9938\n",
      "Epoch 18/100\n",
      "981/981 [==============================] - 28s 28ms/step - loss: 0.2101 - accuracy: 0.9571 - val_loss: 0.0480 - val_accuracy: 0.9913\n",
      "Epoch 19/100\n",
      "981/981 [==============================] - 27s 28ms/step - loss: 0.1904 - accuracy: 0.9621 - val_loss: 0.0565 - val_accuracy: 0.9885\n",
      "Epoch 20/100\n",
      "981/981 [==============================] - 27s 28ms/step - loss: 0.2047 - accuracy: 0.9581 - val_loss: 0.0471 - val_accuracy: 0.9893\n",
      "Epoch 21/100\n",
      "981/981 [==============================] - 27s 28ms/step - loss: 0.1624 - accuracy: 0.9642 - val_loss: 0.0315 - val_accuracy: 0.9944\n",
      "Epoch 22/100\n",
      "981/981 [==============================] - 27s 28ms/step - loss: 0.1978 - accuracy: 0.9623 - val_loss: 0.0271 - val_accuracy: 0.9943\n",
      "Epoch 23/100\n",
      "981/981 [==============================] - 27s 28ms/step - loss: 0.2074 - accuracy: 0.9601 - val_loss: 0.0446 - val_accuracy: 0.9880\n",
      "Epoch 24/100\n",
      "981/981 [==============================] - 27s 28ms/step - loss: 0.2064 - accuracy: 0.9613 - val_loss: 0.0230 - val_accuracy: 0.9952\n",
      "Epoch 25/100\n",
      "981/981 [==============================] - 27s 28ms/step - loss: 0.1690 - accuracy: 0.9661 - val_loss: 0.0445 - val_accuracy: 0.9892\n",
      "Epoch 26/100\n",
      "981/981 [==============================] - 27s 28ms/step - loss: 0.2356 - accuracy: 0.9574 - val_loss: 0.0540 - val_accuracy: 0.9889\n",
      "Epoch 27/100\n",
      "981/981 [==============================] - 27s 28ms/step - loss: 0.2643 - accuracy: 0.9530 - val_loss: 0.0296 - val_accuracy: 0.9955\n",
      "Epoch 28/100\n",
      "981/981 [==============================] - 27s 27ms/step - loss: 0.2074 - accuracy: 0.9624 - val_loss: 0.0712 - val_accuracy: 0.9860\n",
      "Epoch 29/100\n",
      "981/981 [==============================] - 27s 27ms/step - loss: 0.1991 - accuracy: 0.9633 - val_loss: 0.0598 - val_accuracy: 0.9892\n",
      "Epoch 30/100\n",
      "981/981 [==============================] - 27s 28ms/step - loss: 0.2348 - accuracy: 0.9582 - val_loss: 0.0566 - val_accuracy: 0.9895\n",
      "Epoch 31/100\n",
      "981/981 [==============================] - 27s 28ms/step - loss: 0.2235 - accuracy: 0.9614 - val_loss: 0.0326 - val_accuracy: 0.9952\n",
      "Epoch 32/100\n",
      "981/981 [==============================] - 27s 27ms/step - loss: 0.2169 - accuracy: 0.9609 - val_loss: 0.0367 - val_accuracy: 0.9939\n",
      "Epoch 33/100\n",
      "981/981 [==============================] - 27s 27ms/step - loss: 0.2183 - accuracy: 0.9635 - val_loss: 0.0327 - val_accuracy: 0.9948\n",
      "Epoch 34/100\n",
      "981/981 [==============================] - 27s 27ms/step - loss: 0.2224 - accuracy: 0.9635 - val_loss: 0.0390 - val_accuracy: 0.9929\n",
      "Epoch 35/100\n",
      "981/981 [==============================] - 27s 28ms/step - loss: 0.2531 - accuracy: 0.9581 - val_loss: 0.0403 - val_accuracy: 0.9926\n",
      "Epoch 36/100\n",
      "981/981 [==============================] - 27s 28ms/step - loss: 0.2580 - accuracy: 0.9591 - val_loss: 0.0476 - val_accuracy: 0.9948\n",
      "Epoch 37/100\n",
      "981/981 [==============================] - 27s 27ms/step - loss: 0.2649 - accuracy: 0.9588 - val_loss: 0.0434 - val_accuracy: 0.9917\n",
      "Epoch 38/100\n",
      "981/981 [==============================] - 28s 29ms/step - loss: 0.2221 - accuracy: 0.9659 - val_loss: 0.0416 - val_accuracy: 0.9943\n",
      "Epoch 39/100\n",
      "981/981 [==============================] - 27s 28ms/step - loss: 0.2598 - accuracy: 0.9592 - val_loss: 0.0466 - val_accuracy: 0.9936\n",
      "Epoch 40/100\n",
      "981/981 [==============================] - 28s 28ms/step - loss: 0.2234 - accuracy: 0.9633 - val_loss: 0.0508 - val_accuracy: 0.9916\n",
      "Epoch 41/100\n",
      "981/981 [==============================] - 28s 28ms/step - loss: 0.2659 - accuracy: 0.9560 - val_loss: 0.0517 - val_accuracy: 0.9917\n",
      "Epoch 42/100\n",
      "981/981 [==============================] - 27s 28ms/step - loss: 0.2293 - accuracy: 0.9590 - val_loss: 0.0544 - val_accuracy: 0.9887\n",
      "Epoch 43/100\n",
      "981/981 [==============================] - 26s 27ms/step - loss: 0.2430 - accuracy: 0.9603 - val_loss: 0.0364 - val_accuracy: 0.9934\n",
      "Epoch 44/100\n",
      "981/981 [==============================] - 28s 29ms/step - loss: 0.2245 - accuracy: 0.9634 - val_loss: 0.0338 - val_accuracy: 0.9957\n",
      "Epoch 45/100\n",
      "981/981 [==============================] - 27s 28ms/step - loss: 0.2438 - accuracy: 0.9633 - val_loss: 0.0585 - val_accuracy: 0.9904\n",
      "Epoch 46/100\n",
      "981/981 [==============================] - 27s 27ms/step - loss: 0.2693 - accuracy: 0.9589 - val_loss: 0.0350 - val_accuracy: 0.9936\n",
      "Epoch 47/100\n",
      "981/981 [==============================] - 27s 27ms/step - loss: 0.2591 - accuracy: 0.9627 - val_loss: 0.0372 - val_accuracy: 0.9934\n",
      "Epoch 48/100\n",
      "981/981 [==============================] - 27s 28ms/step - loss: 0.2323 - accuracy: 0.9637 - val_loss: 0.0398 - val_accuracy: 0.9949\n",
      "Epoch 49/100\n",
      "981/981 [==============================] - 27s 28ms/step - loss: 0.2253 - accuracy: 0.9644 - val_loss: 0.0805 - val_accuracy: 0.9830\n",
      "Epoch 50/100\n",
      "981/981 [==============================] - 27s 27ms/step - loss: 0.2770 - accuracy: 0.9580 - val_loss: 0.0366 - val_accuracy: 0.9954\n",
      "Epoch 51/100\n",
      "981/981 [==============================] - 27s 27ms/step - loss: 0.2680 - accuracy: 0.9625 - val_loss: 0.0330 - val_accuracy: 0.9959\n",
      "Epoch 52/100\n",
      "981/981 [==============================] - 27s 28ms/step - loss: 0.2580 - accuracy: 0.9617 - val_loss: 0.0464 - val_accuracy: 0.9944\n",
      "Epoch 53/100\n",
      "981/981 [==============================] - 27s 28ms/step - loss: 0.2500 - accuracy: 0.9613 - val_loss: 0.0480 - val_accuracy: 0.9955\n",
      "Epoch 54/100\n",
      "981/981 [==============================] - 27s 28ms/step - loss: 0.3125 - accuracy: 0.9525 - val_loss: 0.0715 - val_accuracy: 0.9894\n",
      "Epoch 55/100\n",
      "981/981 [==============================] - 27s 28ms/step - loss: 0.3378 - accuracy: 0.9550 - val_loss: 0.1148 - val_accuracy: 0.9898\n",
      "Epoch 56/100\n",
      "981/981 [==============================] - 27s 28ms/step - loss: 0.2567 - accuracy: 0.9693 - val_loss: 0.0585 - val_accuracy: 0.9895\n",
      "Epoch 57/100\n",
      "981/981 [==============================] - 27s 28ms/step - loss: 0.2660 - accuracy: 0.9668 - val_loss: 0.0410 - val_accuracy: 0.9957\n",
      "Epoch 58/100\n",
      "981/981 [==============================] - 27s 28ms/step - loss: 0.2897 - accuracy: 0.9617 - val_loss: 0.0481 - val_accuracy: 0.9936\n",
      "Epoch 59/100\n",
      "981/981 [==============================] - 27s 28ms/step - loss: 0.2935 - accuracy: 0.9619 - val_loss: 0.0616 - val_accuracy: 0.9895\n",
      "Epoch 60/100\n",
      "981/981 [==============================] - 27s 28ms/step - loss: 0.3155 - accuracy: 0.9598 - val_loss: 0.0549 - val_accuracy: 0.9932\n",
      "Epoch 61/100\n",
      "981/981 [==============================] - 27s 28ms/step - loss: 0.3087 - accuracy: 0.9609 - val_loss: 0.0488 - val_accuracy: 0.9926\n",
      "Epoch 62/100\n",
      "981/981 [==============================] - 28s 28ms/step - loss: 0.3056 - accuracy: 0.9560 - val_loss: 0.0574 - val_accuracy: 0.9907\n",
      "Epoch 63/100\n",
      "981/981 [==============================] - 28s 28ms/step - loss: 0.2825 - accuracy: 0.9625 - val_loss: 0.0373 - val_accuracy: 0.9952\n",
      "Epoch 64/100\n",
      "981/981 [==============================] - 27s 27ms/step - loss: 0.2328 - accuracy: 0.9669 - val_loss: 0.0583 - val_accuracy: 0.9922\n",
      "Epoch 65/100\n",
      "981/981 [==============================] - 27s 27ms/step - loss: 0.3246 - accuracy: 0.9597 - val_loss: 0.0490 - val_accuracy: 0.9935\n",
      "Epoch 66/100\n",
      "981/981 [==============================] - 27s 28ms/step - loss: 0.3432 - accuracy: 0.9556 - val_loss: 0.0581 - val_accuracy: 0.9948\n",
      "Epoch 67/100\n",
      "981/981 [==============================] - 27s 28ms/step - loss: 0.2440 - accuracy: 0.9628 - val_loss: 0.0722 - val_accuracy: 0.9897\n",
      "Epoch 68/100\n",
      "981/981 [==============================] - 27s 28ms/step - loss: 0.2933 - accuracy: 0.9626 - val_loss: 0.0870 - val_accuracy: 0.9918\n",
      "Epoch 69/100\n",
      "981/981 [==============================] - 27s 28ms/step - loss: 0.3205 - accuracy: 0.9590 - val_loss: 0.1378 - val_accuracy: 0.9749\n",
      "Epoch 70/100\n",
      "981/981 [==============================] - 27s 28ms/step - loss: 0.3345 - accuracy: 0.9558 - val_loss: 0.0404 - val_accuracy: 0.9945\n",
      "Epoch 71/100\n",
      "981/981 [==============================] - 27s 28ms/step - loss: 0.2694 - accuracy: 0.9612 - val_loss: 0.0861 - val_accuracy: 0.9909\n",
      "Epoch 72/100\n",
      "981/981 [==============================] - 27s 28ms/step - loss: 0.2773 - accuracy: 0.9603 - val_loss: 0.1326 - val_accuracy: 0.9748\n",
      "Epoch 73/100\n",
      "981/981 [==============================] - 27s 28ms/step - loss: 0.3593 - accuracy: 0.9540 - val_loss: 0.0625 - val_accuracy: 0.9944\n",
      "Epoch 74/100\n",
      "981/981 [==============================] - 27s 28ms/step - loss: 0.3283 - accuracy: 0.9574 - val_loss: 0.1331 - val_accuracy: 0.9828\n",
      "Epoch 75/100\n",
      "981/981 [==============================] - 28s 28ms/step - loss: 0.3281 - accuracy: 0.9591 - val_loss: 0.0485 - val_accuracy: 0.9944\n",
      "Epoch 76/100\n",
      "981/981 [==============================] - 27s 28ms/step - loss: 0.3206 - accuracy: 0.9561 - val_loss: 0.0553 - val_accuracy: 0.9870\n",
      "Epoch 77/100\n",
      "981/981 [==============================] - 27s 28ms/step - loss: 0.3809 - accuracy: 0.9509 - val_loss: 0.0395 - val_accuracy: 0.9945\n",
      "Epoch 78/100\n",
      "981/981 [==============================] - 27s 28ms/step - loss: 0.2978 - accuracy: 0.9622 - val_loss: 0.0645 - val_accuracy: 0.9950\n",
      "Epoch 79/100\n",
      "981/981 [==============================] - 27s 27ms/step - loss: 0.3512 - accuracy: 0.9532 - val_loss: 0.0369 - val_accuracy: 0.9962\n",
      "Epoch 80/100\n",
      "981/981 [==============================] - 26s 27ms/step - loss: 0.3262 - accuracy: 0.9516 - val_loss: 0.0781 - val_accuracy: 0.9834\n",
      "Epoch 81/100\n",
      "981/981 [==============================] - 27s 27ms/step - loss: 0.3429 - accuracy: 0.9582 - val_loss: 0.1586 - val_accuracy: 0.9611\n",
      "Epoch 82/100\n",
      "981/981 [==============================] - 26s 27ms/step - loss: 0.3887 - accuracy: 0.9494 - val_loss: 0.0975 - val_accuracy: 0.9881\n",
      "Epoch 83/100\n",
      "981/981 [==============================] - 26s 27ms/step - loss: 0.2835 - accuracy: 0.9614 - val_loss: 0.0923 - val_accuracy: 0.9944\n",
      "Epoch 84/100\n",
      "981/981 [==============================] - 26s 27ms/step - loss: 0.3808 - accuracy: 0.9507 - val_loss: 0.0764 - val_accuracy: 0.9895\n",
      "Epoch 85/100\n",
      "981/981 [==============================] - 27s 27ms/step - loss: 0.3379 - accuracy: 0.9543 - val_loss: 0.1517 - val_accuracy: 0.9770\n",
      "Epoch 86/100\n",
      "981/981 [==============================] - 26s 26ms/step - loss: 0.3837 - accuracy: 0.9525 - val_loss: 0.0487 - val_accuracy: 0.9930\n",
      "Epoch 87/100\n",
      "981/981 [==============================] - 26s 27ms/step - loss: 0.3120 - accuracy: 0.9590 - val_loss: 0.0736 - val_accuracy: 0.9926\n",
      "Epoch 88/100\n",
      "981/981 [==============================] - 27s 27ms/step - loss: 0.3819 - accuracy: 0.9543 - val_loss: 0.0797 - val_accuracy: 0.9894\n",
      "Epoch 89/100\n",
      "981/981 [==============================] - 27s 27ms/step - loss: 0.3067 - accuracy: 0.9598 - val_loss: 0.0918 - val_accuracy: 0.9938\n",
      "Epoch 90/100\n",
      "981/981 [==============================] - 27s 28ms/step - loss: 0.3458 - accuracy: 0.9589 - val_loss: 0.0531 - val_accuracy: 0.9948\n",
      "Epoch 91/100\n",
      "981/981 [==============================] - 27s 28ms/step - loss: 0.2980 - accuracy: 0.9630 - val_loss: 0.1102 - val_accuracy: 0.9827\n",
      "Epoch 92/100\n",
      "981/981 [==============================] - 28s 28ms/step - loss: 0.4315 - accuracy: 0.9479 - val_loss: 0.0545 - val_accuracy: 0.9935\n",
      "Epoch 93/100\n",
      "981/981 [==============================] - 28s 28ms/step - loss: 0.3056 - accuracy: 0.9583 - val_loss: 0.0690 - val_accuracy: 0.9898\n",
      "Epoch 94/100\n",
      "981/981 [==============================] - 27s 28ms/step - loss: 0.3408 - accuracy: 0.9540 - val_loss: 0.0627 - val_accuracy: 0.9902\n",
      "Epoch 95/100\n",
      "981/981 [==============================] - 27s 28ms/step - loss: 0.4479 - accuracy: 0.9397 - val_loss: 0.0567 - val_accuracy: 0.9945\n",
      "Epoch 96/100\n",
      "981/981 [==============================] - 27s 28ms/step - loss: 0.4669 - accuracy: 0.9431 - val_loss: 0.0741 - val_accuracy: 0.9909\n",
      "Epoch 97/100\n",
      "981/981 [==============================] - 27s 28ms/step - loss: 0.3698 - accuracy: 0.9578 - val_loss: 0.1058 - val_accuracy: 0.9892\n",
      "Epoch 98/100\n",
      "981/981 [==============================] - 27s 28ms/step - loss: 0.3132 - accuracy: 0.9574 - val_loss: 0.0998 - val_accuracy: 0.9901\n",
      "Epoch 99/100\n",
      "981/981 [==============================] - 27s 28ms/step - loss: 0.4281 - accuracy: 0.9394 - val_loss: 0.0806 - val_accuracy: 0.9909\n",
      "Epoch 100/100\n",
      "981/981 [==============================] - 27s 28ms/step - loss: 0.3821 - accuracy: 0.9426 - val_loss: 0.1414 - val_accuracy: 0.9615\n"
     ]
    }
   ],
   "source": [
    "model.compile(loss='categorical_crossentropy', optimizer='adam', metrics=['accuracy'])\n",
    "\n",
    "epochs = 100\n",
    "history = model.fit(X_train, y_train, batch_size=32, epochs=epochs, validation_data=(X_test, y_test))\n",
    "model.save(\"my_model.h5\")"
   ]
  },
  {
   "cell_type": "markdown",
   "metadata": {},
   "source": [
    "Plotando em graficos\n"
   ]
  },
  {
   "cell_type": "code",
   "execution_count": 1,
   "metadata": {},
   "outputs": [],
   "source": [
    "# plt.figure(0)\n",
    "# plt.plot(history.history['accuracy'], label='training accuracy')\n",
    "# plt.plot(history.history['val_accuracy'], label='val accuracy')\n",
    "# plt.title('Accuracy')\n",
    "# plt.xlabel('epochs')\n",
    "# plt.ylabel('accuracy')\n",
    "# plt.legend()\n",
    "# plt.show()"
   ]
  },
  {
   "cell_type": "code",
   "execution_count": 8,
   "metadata": {},
   "outputs": [],
   "source": [
    "# plt.figure(1)\n",
    "# plt.plot(history.history['loss'], label='training loss')\n",
    "# plt.plot(history.history['val_loss'], label='val loss')\n",
    "# plt.title('Loss')\n",
    "# plt.xlabel('epochs')\n",
    "# plt.ylabel('loss')\n",
    "# plt.legend()\n",
    "# plt.show()"
   ]
  },
  {
   "cell_type": "markdown",
   "metadata": {},
   "source": [
    "Dando Load no modelo"
   ]
  },
  {
   "cell_type": "code",
   "execution_count": 4,
   "metadata": {},
   "outputs": [],
   "source": [
    "model = load_model(\"Modelos/Modelo 50 epocas/my_model.h5\")"
   ]
  },
  {
   "cell_type": "markdown",
   "metadata": {},
   "source": [
    "Testando a acuracia com o dataset de test"
   ]
  },
  {
   "cell_type": "code",
   "execution_count": 10,
   "metadata": {},
   "outputs": [
    {
     "name": "stdout",
     "output_type": "stream",
     "text": [
      "1226/1226 [==============================] - 7s 5ms/step\n"
     ]
    }
   ],
   "source": [
    "y_test = pd.read_csv('input/Train.csv')\n",
    "labels = y_test[\"ClassId\"].values\n",
    "imgs = y_test[\"Path\"].values\n",
    "data=[]\n",
    "for img in imgs:\n",
    "    image = Image.open(img)\n",
    "    image = image.resize((30,30))\n",
    "    data.append(np.array(image))\n",
    "X_test=np.array(data)\n",
    "predict_x=model.predict(X_test) \n",
    "model.save('traffic_classifier.h5')"
   ]
  }
 ],
 "metadata": {
  "interpreter": {
   "hash": "3f0d44c8b4baa9375433f27d8eb919c7a09c2a0f4a75c77d53660f1a12b87d70"
  },
  "kernelspec": {
   "display_name": "Python 3.9.12 ('base')",
   "language": "python",
   "name": "python3"
  },
  "language_info": {
   "codemirror_mode": {
    "name": "ipython",
    "version": 3
   },
   "file_extension": ".py",
   "mimetype": "text/x-python",
   "name": "python",
   "nbconvert_exporter": "python",
   "pygments_lexer": "ipython3",
   "version": "3.9.12"
  },
  "orig_nbformat": 4
 },
 "nbformat": 4,
 "nbformat_minor": 2
}
